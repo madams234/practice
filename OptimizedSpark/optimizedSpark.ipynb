{
 "cells": [
  {
   "cell_type": "code",
   "execution_count": null,
   "metadata": {},
   "outputs": [],
   "source": [
    "import findspark\n",
    "\n",
    "findspark.init()\n",
    "\n",
    "findspark.find()\n",
    "\n",
    "import pyspark\n",
    "\n",
    "findspark.find()\n",
    "\n",
    "from pyspark.sql import SparkSession\n",
    "from pyspark.sql.types import StructType,StructField, StringType, IntegerType ,LongType\n",
    "from pyspark.sql.types import ArrayType, DoubleType, BooleanType, DateType, TimestampType, DecimalType\n",
    "\n",
    "    \n",
    "from typing import List\n",
    "import datetime\n",
    "import decimal\n",
    "\n",
    "import pyspark\n",
    "from pyspark.sql import SparkSession\n",
    "from pyspark.sql.functions import col, count, month\n",
    "\n",
    "import os\n",
    "\n",
    "\n",
    "spark = SparkSession.builder.appName('Optimize I').getOrCreate()\n",
    "\n",
    "base_path = os.getcwd()\n",
    "\n",
    "project_path = ('/').join(base_path.split('/')[0:-3]) \n",
    "\n",
    "answers_input_path = os.path.join(project_path, 'C:/Optimization/data/answers')\n",
    "\n",
    "questions_input_path = os.path.join(project_path, 'C:/Optimization/data/questions')\n",
    "\n",
    "answersDF = spark.read.option('path', answers_input_path).load()\n",
    "\n",
    "questionsDF = spark.read.option('path', questions_input_path).load()\n",
    "\n",
    "'''\n",
    "Answers aggregation\n",
    "Here we : get number of answers per question per month\n",
    "'''\n",
    "\n",
    "answers_month = answersDF.withColumn('month', month('creation_date')).groupBy('question_id', 'month').agg(count('*').alias('cnt'))\n",
    "\n",
    "# questionsDF has 4 partitions and answers_month has 200 so reducing the no of partitions using coalesce to reduce the no of shuffles in the below join transformation\n",
    "answers_month=answers_month.coalesce(4)\n",
    "\n",
    "# Removed the redundant column 'creation_date'\n",
    "resultDF = questionsDF.join(answers_month, 'question_id').select('question_id', 'title', 'month', 'cnt')\n",
    "\n",
    "resultDF.orderBy('question_id', 'month').show(truncate=False)\n",
    "\n",
    "resultDF.explain()"
   ]
  }
 ],
 "metadata": {
  "kernelspec": {
   "display_name": "Python 3",
   "language": "python",
   "name": "python3"
  },
  "language_info": {
   "codemirror_mode": {
    "name": "ipython",
    "version": 3
   },
   "file_extension": ".py",
   "mimetype": "text/x-python",
   "name": "python",
   "nbconvert_exporter": "python",
   "pygments_lexer": "ipython3",
   "version": "3.8.5"
  }
 },
 "nbformat": 4,
 "nbformat_minor": 4
}
